{
 "cells": [
  {
   "cell_type": "code",
   "execution_count": null,
   "metadata": {},
   "outputs": [],
   "source": [
    "# THIS CODE IS MY OWN WORK, IT WAS WRITTEN WITHOUT CONSULTING\n",
    "# A TUTOR OR CODE WRITTEN BY OTHER STUDENTS - Jie Lin\n",
    "# Python 3\n",
    "\n",
    "#coding=utf-8\n",
    "\"\"\"\n",
    "@version: 1.0\n",
    "@author: Jie Lin\n",
    "@Mail: jlin246@emory.edu\n",
    "@time: 11/02/2018 12:00pm\n",
    "@purpose: testing code simiarity\n",
    "@code environment: ubuntu 18.01\n",
    "\"\"\"\n",
    "\n",
    "import sys\n",
    "import"
   ]
  }
 ],
 "metadata": {
  "kernelspec": {
   "display_name": "Python 3",
   "language": "python",
   "name": "python3"
  },
  "language_info": {
   "codemirror_mode": {
    "name": "ipython",
    "version": 3
   },
   "file_extension": ".py",
   "mimetype": "text/x-python",
   "name": "python",
   "nbconvert_exporter": "python",
   "pygments_lexer": "ipython3",
   "version": "3.6.5"
  }
 },
 "nbformat": 4,
 "nbformat_minor": 2
}
